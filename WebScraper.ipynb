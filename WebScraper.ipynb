{
 "cells": [
  {
   "cell_type": "code",
   "execution_count": null,
   "id": "f027a290",
   "metadata": {},
   "outputs": [],
   "source": [
    "def Webscrape(url):\n",
    "    \n",
    "  import requests as rq\n",
    "  from bs4 import BeautifulSoup as bs\n",
    "  import pandas as pd\n",
    "  \n",
    "  \n",
    "  page=rq.get(url)\n",
    "  soup=bs(page.text,\"html.parser\")\n",
    "  tables=soup.find_all(\"table\")\n",
    "  \n",
    "  \n",
    "  j=1\n",
    "  for table in tables :\n",
    "    colonne=table.find_all(\"th\")\n",
    "    columns=[th.text.strip() for th in colonne]\n",
    "    if not columns:\n",
    "            continue\n",
    "    df=pd.DataFrame(columns=columns)\n",
    "\n",
    "\n",
    "    row=table.find_all(\"tr\")\n",
    "\n",
    "    for p in row[1:]:\n",
    "        row_data=p.find_all([\"td\",\"th\"])\n",
    "        idrow=[n.text.strip() for n in row_data]\n",
    "\n",
    "        while len(idrow)<len(df.columns) :\n",
    "            idrow.append(None)\n",
    "        if len(idrow)==len(df.columns):\n",
    "            df.loc[len(df)]=idrow\n",
    "\n",
    "\n",
    "    if not df.empty:\n",
    "        df.to_csv(f\"Table{j}.csv\", index=False)\n",
    "        j+= 1"
   ]
  },
  {
   "cell_type": "code",
   "execution_count": 15,
   "id": "76d027ca",
   "metadata": {},
   "outputs": [],
   "source": [
    "Webscrape(\"https://fr.wikipedia.org/wiki/Produit_int%C3%A9rieur_brut\")"
   ]
  },
  {
   "cell_type": "code",
   "execution_count": null,
   "id": "573c3a10",
   "metadata": {},
   "outputs": [],
   "source": []
  }
 ],
 "metadata": {
  "kernelspec": {
   "display_name": "Python 3",
   "language": "python",
   "name": "python3"
  },
  "language_info": {
   "codemirror_mode": {
    "name": "ipython",
    "version": 3
   },
   "file_extension": ".py",
   "mimetype": "text/x-python",
   "name": "python",
   "nbconvert_exporter": "python",
   "pygments_lexer": "ipython3",
   "version": "3.12.6"
  }
 },
 "nbformat": 4,
 "nbformat_minor": 5
}
